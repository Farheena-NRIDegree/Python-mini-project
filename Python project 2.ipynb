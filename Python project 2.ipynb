{
  "nbformat": 4,
  "nbformat_minor": 0,
  "metadata": {
    "colab": {
      "provenance": [],
      "authorship_tag": "ABX9TyNGU29zV3bqNo3JSqqCOmEH",
      "include_colab_link": true
    },
    "kernelspec": {
      "name": "python3",
      "display_name": "Python 3"
    },
    "language_info": {
      "name": "python"
    }
  },
  "cells": [
    {
      "cell_type": "markdown",
      "metadata": {
        "id": "view-in-github",
        "colab_type": "text"
      },
      "source": [
        "<a href=\"https://colab.research.google.com/github/Farheena-NRIDegree/Python-mini-project/blob/main/Python%20project%202.ipynb\" target=\"_parent\"><img src=\"https://colab.research.google.com/assets/colab-badge.svg\" alt=\"Open In Colab\"/></a>"
      ]
    },
    {
      "cell_type": "code",
      "execution_count": 1,
      "metadata": {
        "colab": {
          "base_uri": "https://localhost:8080/"
        },
        "id": "Z2f4Zi9M7bWL",
        "outputId": "57849bbd-f961-45f2-ce8d-acce9c31ca2b"
      },
      "outputs": [
        {
          "output_type": "stream",
          "name": "stdout",
          "text": [
            "In ascending order: [2, 5, 6, 7, 9]\n"
          ]
        }
      ],
      "source": [
        "# list of elements to sort\n",
        "l1= [6, 7, 2, 9, 5]\n",
        "l2= []\n",
        "# loop to sort the elements\n",
        "for i in range (len (l1)):\n",
        "\n",
        "    min_val = l1[0]\n",
        "    for j in range (1, len(l1)):\n",
        "        if l1[j] < min_val:\n",
        "         min_val = l1[j]\n",
        "    l2.append(min_val)\n",
        "\n",
        "    l1.remove(min_val)\n",
        "\n",
        "print(\"In ascending order:\",l2)"
      ]
    }
  ]
}